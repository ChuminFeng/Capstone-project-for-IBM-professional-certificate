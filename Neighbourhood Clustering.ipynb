{
    "cells": [
        {
            "cell_type": "markdown",
            "metadata": {
                "collapsed": true
            },
            "source": "# this is the Capstone project for IBM Data Sicence Professional Certificate"
        },
        {
            "cell_type": "code",
            "execution_count": 1,
            "metadata": {},
            "outputs": [],
            "source": "#import library\nimport pandas as pd\nimport numpy as np"
        },
        {
            "cell_type": "code",
            "execution_count": 2,
            "metadata": {},
            "outputs": [
                {
                    "name": "stdout",
                    "output_type": "stream",
                    "text": "Hello Capstone Project Course!\n"
                }
            ],
            "source": "# start as request\nprint('Hello Capstone Project Course!')"
        },
        {
            "cell_type": "code",
            "execution_count": 7,
            "metadata": {},
            "outputs": [
                {
                    "name": "stdout",
                    "output_type": "stream",
                    "text": "done\n"
                }
            ],
            "source": "#import module for scraping\nfrom bs4 import BeautifulSoup\nimport lxml\nimport html5lib\nimport requests\nprint('done')"
        },
        {
            "cell_type": "markdown",
            "metadata": {},
            "source": "#get html from web\n#get the table and rows to parse\n#create the dataframe to store the result from loop"
        },
        {
            "cell_type": "code",
            "execution_count": 11,
            "metadata": {},
            "outputs": [],
            "source": "\nsource = requests.get('https://en.wikipedia.org/wiki/List_of_postal_codes_of_Canada:_M').text\nsoup = BeautifulSoup(source,'lxml')"
        },
        {
            "cell_type": "code",
            "execution_count": 42,
            "metadata": {},
            "outputs": [],
            "source": "\ntable = soup.table\ntable_rows=table.find_all('tr')"
        },
        {
            "cell_type": "code",
            "execution_count": 171,
            "metadata": {},
            "outputs": [
                {
                    "data": {
                        "text/plain": "pandas.core.frame.DataFrame"
                    },
                    "execution_count": 171,
                    "metadata": {},
                    "output_type": "execute_result"
                }
            ],
            "source": "\ndf = {'postcode':[],'Borough':[],'Neighbourhood':[]}\n\nNeigh = pd.DataFrame(df)\n\ntype(Neigh)"
        },
        {
            "cell_type": "markdown",
            "metadata": {},
            "source": "#create the list to append to the dataframe\n#loop to assign value to the list\n#reference link: https://www.youtube.com/watch?v=sAuGH1Kto2I&list=PL0vuEoxnycCKWtKG-cOh1JcIwNNraQ8sP&index=4&t=0s\n\n# the result from loop, the first result set is an empyty list as header and without index, need the try block to exclude that empty list, otherwise error\n# reference link: https://www.youtube.com/watch?v=ng2o98k983k"
        },
        {
            "cell_type": "code",
            "execution_count": 172,
            "metadata": {},
            "outputs": [],
            "source": "\nl=[]\n\n\nfor tr in table_rows:\n    td = tr.find_all('td')\n    row = [i.text for i in td]\n   \n    try:\n        l=[{'postcode':row[0],'Borough':row[1],'Neighbourhood':row[2]}]\n        Neigh=Neigh.append(l,sort=True)\n    except Exception as e:\n        pass"
        },
        {
            "cell_type": "code",
            "execution_count": 173,
            "metadata": {},
            "outputs": [
                {
                    "data": {
                        "text/plain": "(180, 3)"
                    },
                    "execution_count": 173,
                    "metadata": {},
                    "output_type": "execute_result"
                }
            ],
            "source": "Neigh.shape"
        },
        {
            "cell_type": "code",
            "execution_count": 196,
            "metadata": {},
            "outputs": [],
            "source": "# original dataframe has all row index as 0, reset index\nNeigh.reset_index(drop=True)\n# reset column order\nN = Neigh[['postcode','Borough','Neighbourhood']]\nN = Neighbourhood.reset_index(drop=True)"
        },
        {
            "cell_type": "code",
            "execution_count": 199,
            "metadata": {},
            "outputs": [],
            "source": "# Drop borough that are not assigned\nNew = N[N.Borough != 'Not assigned\\n']\n#Remove all '\\n', and replace '/' with ','\nR = New.replace('\\n','',regex=True)\ndataframe = R.replace('/',',',regex=True)\n"
        },
        {
            "cell_type": "code",
            "execution_count": 202,
            "metadata": {},
            "outputs": [
                {
                    "data": {
                        "text/html": "<div>\n<style scoped>\n    .dataframe tbody tr th:only-of-type {\n        vertical-align: middle;\n    }\n\n    .dataframe tbody tr th {\n        vertical-align: top;\n    }\n\n    .dataframe thead th {\n        text-align: right;\n    }\n</style>\n<table border=\"1\" class=\"dataframe\">\n  <thead>\n    <tr style=\"text-align: right;\">\n      <th></th>\n      <th>postcode</th>\n      <th>Borough</th>\n      <th>Neighbourhood</th>\n    </tr>\n  </thead>\n  <tbody>\n    <tr>\n      <th>2</th>\n      <td>M3A</td>\n      <td>North York</td>\n      <td>Parkwoods</td>\n    </tr>\n    <tr>\n      <th>3</th>\n      <td>M4A</td>\n      <td>North York</td>\n      <td>Victoria Village</td>\n    </tr>\n    <tr>\n      <th>4</th>\n      <td>M5A</td>\n      <td>Downtown Toronto</td>\n      <td>Regent Park , Harbourfront</td>\n    </tr>\n    <tr>\n      <th>5</th>\n      <td>M6A</td>\n      <td>North York</td>\n      <td>Lawrence Manor , Lawrence Heights</td>\n    </tr>\n    <tr>\n      <th>6</th>\n      <td>M7A</td>\n      <td>Downtown Toronto</td>\n      <td>Queen's Park , Ontario Provincial Government</td>\n    </tr>\n  </tbody>\n</table>\n</div>",
                        "text/plain": "  postcode           Borough                                 Neighbourhood\n2      M3A        North York                                     Parkwoods\n3      M4A        North York                              Victoria Village\n4      M5A  Downtown Toronto                    Regent Park , Harbourfront\n5      M6A        North York             Lawrence Manor , Lawrence Heights\n6      M7A  Downtown Toronto  Queen's Park , Ontario Provincial Government"
                    },
                    "execution_count": 202,
                    "metadata": {},
                    "output_type": "execute_result"
                }
            ],
            "source": "dataframe.head()"
        },
        {
            "cell_type": "code",
            "execution_count": 203,
            "metadata": {},
            "outputs": [
                {
                    "data": {
                        "text/plain": "(103, 3)"
                    },
                    "execution_count": 203,
                    "metadata": {},
                    "output_type": "execute_result"
                }
            ],
            "source": "dataframe.shape"
        },
        {
            "cell_type": "code",
            "execution_count": null,
            "metadata": {},
            "outputs": [],
            "source": ""
        }
    ],
    "metadata": {
        "kernelspec": {
            "display_name": "Python 3.6",
            "language": "python",
            "name": "python3"
        },
        "language_info": {
            "codemirror_mode": {
                "name": "ipython",
                "version": 3
            },
            "file_extension": ".py",
            "mimetype": "text/x-python",
            "name": "python",
            "nbconvert_exporter": "python",
            "pygments_lexer": "ipython3",
            "version": "3.6.9"
        }
    },
    "nbformat": 4,
    "nbformat_minor": 1
}